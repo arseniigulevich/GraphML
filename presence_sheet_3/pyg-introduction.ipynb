{
 "cells": [
  {
   "cell_type": "code",
   "execution_count": 48,
   "id": "ef5fd8a8-9985-42a9-89ab-4e9c80eb95bf",
   "metadata": {},
   "outputs": [],
   "source": [
    "import networkit as nk\n",
    "import numpy as np\n",
    "import torch as torch\n",
    "from torch_geometric.data import Data\n",
    "from torch_geometric import EdgeIndex\n",
    "from torch_geometric.utils import barabasi_albert_graph\n",
    "from torch_geometric.utils import from_networkit\n",
    "from torch_geometric.visualization import visualize_graph\n",
    "from torch_geometric.datasets import Planetoid"
   ]
  },
  {
   "cell_type": "markdown",
   "id": "a846845c-3e22-419f-9b8b-b0e1407f207f",
   "metadata": {
    "tags": []
   },
   "source": [
    "### Task 1"
   ]
  },
  {
   "cell_type": "code",
   "execution_count": 50,
   "id": "1b9e65f4-a84f-4ccb-8c23-e7a8639d517c",
   "metadata": {},
   "outputs": [
    {
     "name": "stdout",
     "output_type": "stream",
     "text": [
      "EdgeIndex([[0, 1, 1, 2, 1, 3],\n",
      "           [1, 0, 2, 1, 3, 1]], sparse_size=(4, 4), nnz=6, is_undirected=True)\n"
     ]
    }
   ],
   "source": [
    "# G1\n",
    "G1 = EdgeIndex([[0, 1, 1, 2, 1, 3], [1, 0, 2, 1, 3, 1]], sparse_size=(4, 4), is_undirected=True)\n",
    "print(G1)"
   ]
  },
  {
   "cell_type": "code",
   "execution_count": 52,
   "id": "aefd1062-2c22-4237-96c6-647967375e74",
   "metadata": {},
   "outputs": [
    {
     "name": "stdout",
     "output_type": "stream",
     "text": [
      "EdgeIndex([[  0,   0,   0,  ..., 999, 999, 999],\n",
      "           [ 18,  47, 100,  ..., 929, 931, 972]], sparse_size=(1000, 1000),\n",
      "          nnz=144516, is_undirected=True)\n"
     ]
    }
   ],
   "source": [
    "# G2\n",
    "n = 1000\n",
    "k = 100\n",
    "G2 = EdgeIndex(barabasi_albert_graph(num_nodes = n, num_edges = k), sparse_size=(n, n), is_undirected=True)\n",
    "print(G2)"
   ]
  },
  {
   "cell_type": "code",
   "execution_count": 54,
   "id": "e378778a-4075-46cf-b0e8-27228f380181",
   "metadata": {},
   "outputs": [
    {
     "name": "stdout",
     "output_type": "stream",
     "text": [
      "EdgeIndex([[ 0,  1,  0,  2,  0,  3,  0,  4,  0,  5,  0,  6,  0,  7,  0,  8,  0,\n",
      "            10,  0, 11,  0, 12,  0, 13,  0, 17,  0, 19,  0, 21,  0, 31,  1,  2,\n",
      "             1,  3,  1,  7,  1, 13,  1, 17,  1, 19,  1, 21,  1, 30,  2,  3,  2,\n",
      "             7,  2,  8,  2,  9,  2, 13,  2, 27,  2, 28,  2, 32,  3,  7,  3, 12,\n",
      "             3, 13,  4,  6,  4, 10,  5,  6,  5, 10,  5, 16,  6, 16,  8, 30,  8,\n",
      "            32,  8, 33,  9, 33, 13, 33, 14, 32, 14, 33, 15, 32, 15, 33, 18, 32,\n",
      "            18, 33, 19, 33, 20, 32, 20, 33, 22, 32, 22, 33, 23, 25, 23, 27, 23,\n",
      "            29, 23, 32, 23, 33, 24, 25, 24, 27, 24, 31, 25, 31, 26, 29, 26, 33,\n",
      "            27, 33, 28, 31, 28, 33, 29, 32, 29, 33, 30, 32, 30, 33, 31, 32, 31,\n",
      "            33, 32, 33],\n",
      "           [ 1,  0,  2,  0,  3,  0,  4,  0,  5,  0,  6,  0,  7,  0,  8,  0, 10,\n",
      "             0, 11,  0, 12,  0, 13,  0, 17,  0, 19,  0, 21,  0, 31,  0,  2,  1,\n",
      "             3,  1,  7,  1, 13,  1, 17,  1, 19,  1, 21,  1, 30,  1,  3,  2,  7,\n",
      "             2,  8,  2,  9,  2, 13,  2, 27,  2, 28,  2, 32,  2,  7,  3, 12,  3,\n",
      "            13,  3,  6,  4, 10,  4,  6,  5, 10,  5, 16,  5, 16,  6, 30,  8, 32,\n",
      "             8, 33,  8, 33,  9, 33, 13, 32, 14, 33, 14, 32, 15, 33, 15, 32, 18,\n",
      "            33, 18, 33, 19, 32, 20, 33, 20, 32, 22, 33, 22, 25, 23, 27, 23, 29,\n",
      "            23, 32, 23, 33, 23, 25, 24, 27, 24, 31, 24, 31, 25, 29, 26, 33, 26,\n",
      "            33, 27, 31, 28, 33, 28, 32, 29, 33, 29, 32, 30, 33, 30, 32, 31, 33,\n",
      "            31, 33, 32]], sparse_size=(34, 34), nnz=156, is_undirected=True)\n"
     ]
    }
   ],
   "source": [
    "# G3\n",
    "G = nk.readGraph(\"./karate.graph\", nk.Format.METIS)\n",
    "n = G.numberOfNodes()\n",
    "is_undirected = !G.isDirected()\n",
    "G3 = EdgeIndex(from_networkit(G)[0],sparse_size=(n, n), is_undirected = is_undirected)\n",
    "print(G3)"
   ]
  },
  {
   "cell_type": "code",
   "execution_count": 56,
   "id": "65f37b10-83e4-4715-a139-b2e49c14fefd",
   "metadata": {},
   "outputs": [
    {
     "name": "stdout",
     "output_type": "stream",
     "text": [
      "cora()\n",
      "EdgeIndex([[ 633, 1862, 2582,  ...,  598, 1473, 2706],\n",
      "           [   0,    0,    0,  ..., 2707, 2707, 2707]],\n",
      "          sparse_size=(2708, 2708), nnz=10556, is_undirected=True)\n"
     ]
    }
   ],
   "source": [
    "# G4\n",
    "cora = Planetoid(\"/tmp/cora\",\"cora\")\n",
    "print(cora)\n",
    "cora_nodes = cora._data.num_nodes\n",
    "cora_is_undirected = cora._data.is_undirected()\n",
    "G4 = EdgeIndex(cora._data.edge_index, sparse_size=(cora_nodes,cora_nodes),is_undirected=cora_is_undirected)\n",
    "print(G4)"
   ]
  },
  {
   "cell_type": "markdown",
   "id": "5f1f7870-2891-484b-a00f-ab66c0b98b9b",
   "metadata": {
    "tags": []
   },
   "source": [
    "### Task 2"
   ]
  },
  {
   "cell_type": "code",
   "execution_count": 28,
   "id": "41c8b286-050c-428a-a4fb-fa9fe0e5382b",
   "metadata": {},
   "outputs": [
    {
     "data": {
      "image/png": "[encoded data removed]",
      "text/plain": [
       "<Figure size 432x288 with 1 Axes>"
      ]
     },
     "metadata": {},
     "output_type": "display_data"
    },
    {
     "data": {
      "application/vnd.jupyter.widget-view+json": {
       "model_id": "9d626310b5404afc9fc4d31b7a6d1519",
       "version_major": 2,
       "version_minor": 0
      },
      "text/plain": [
       "FigureWidget({\n",
       "    'data': [{'hoverinfo': 'text',\n",
       "              'marker': {'color': [0.0, 0.0, 0.0, 0.0, 0.0, 0.0, 0.0, 0.0, 0.0,\n",
       "                                   0.0, 0.0, 0.0, 0.0, 0.0, 0.0, 0.0, 0.0, 0.0,\n",
       "                                   0.0, 0.0, 0.0, 0.0, 0.0, 0.0, 0.0, 0.0, 0.0,\n",
       "                                   0.0, 0.0, 0.0, 0.0, 0.0, 0.0, 0.0],\n",
       "                         'colorscale': [[0.0, 'rgb(250, 235, 221)'],\n",
       "                                        [0.00392156862745098, 'rgb(250, 233,\n",
       "                                        218)'], [0.00784313725490196, 'rgb(250,\n",
       "                                        232, 216)'], ..., [0.9921568627450981,\n",
       "                                        'rgb(5, 6, 27)'], [0.996078431372549,\n",
       "                                        'rgb(4, 5, 26)'], [1.0, 'rgb(3, 5, 26)']],\n",
       "                         'line': {'color': 'rgb(50,50,50)', 'width': 0.5},\n",
       "                         'size': 9,\n",
       "                         'symbol': 'circle'},\n",
       "              'mode': 'markers',\n",
       "              'name': 'nodes',\n",
       "              'text': [Node: 0<br>Score: 0.0, Node: 1<br>Score: 0.0, Node:\n",
       "                       2<br>Score: 0.0, Node: 3<br>Score: 0.0, Node: 4<br>Score:\n",
       "                       0.0, Node: 5<br>Score: 0.0, Node: 6<br>Score: 0.0, Node:\n",
       "                       7<br>Score: 0.0, Node: 8<br>Score: 0.0, Node: 9<br>Score:\n",
       "                       0.0, Node: 10<br>Score: 0.0, Node: 11<br>Score: 0.0, Node:\n",
       "                       12<br>Score: 0.0, Node: 13<br>Score: 0.0, Node: 14<br>Score:\n",
       "                       0.0, Node: 15<br>Score: 0.0, Node: 16<br>Score: 0.0, Node:\n",
       "                       17<br>Score: 0.0, Node: 18<br>Score: 0.0, Node: 19<br>Score:\n",
       "                       0.0, Node: 20<br>Score: 0.0, Node: 21<br>Score: 0.0, Node:\n",
       "                       22<br>Score: 0.0, Node: 23<br>Score: 0.0, Node: 24<br>Score:\n",
       "                       0.0, Node: 25<br>Score: 0.0, Node: 26<br>Score: 0.0, Node:\n",
       "                       27<br>Score: 0.0, Node: 28<br>Score: 0.0, Node: 29<br>Score:\n",
       "                       0.0, Node: 30<br>Score: 0.0, Node: 31<br>Score: 0.0, Node:\n",
       "                       32<br>Score: 0.0, Node: 33<br>Score: 0.0],\n",
       "              'type': 'scatter3d',\n",
       "              'uid': 'e9c1706c-5bae-4a63-82e6-d6957515d498',\n",
       "              'x': [-1.0079636638670255, -0.732957064836259, -0.03925028416711672,\n",
       "                    -0.765534215727993, -1.6195425804588097, -1.9094615863885196,\n",
       "                    -2.168042825880712, -0.9359302743888575, 0.008472256605107736,\n",
       "                    0.5630661081598914, -1.3807402714169232, -1.3418438215546662,\n",
       "                    -1.5134951028403112, -0.04136589514931042, 1.559419590517653,\n",
       "                    2.138255368236301, -2.992694226707375, -1.4045980402252838,\n",
       "                    1.4690289011422875, -0.042595055686432994, 1.6291814041146826,\n",
       "                    -1.7180300900905776, 1.530822258341938, 1.3510186101750479,\n",
       "                    0.41812431911632764, 0.6094446349277928, 2.07874970190134,\n",
       "                    0.8281185033653709, 0.7051464858061034, 1.9822581756800997,\n",
       "                    0.39770016838937544, 0.1821544226208804, 1.1037617072987347,\n",
       "                    1.0593223829872427],\n",
       "              'y': [-0.08409784681300243, 0.6969445630003989,\n",
       "                    0.048044714623918405, -0.2637554988741682, -1.127259217246516,\n",
       "                    -0.36310353331899053, -0.3726067869630547, 0.4349959509035163,\n",
       "                    0.6539393371663935, 1.05559674667784, -1.0569444512123067,\n",
       "                    0.43153558188123675, -0.6808652055622786, 0.197506785103811,\n",
       "                    -0.22510631164111392, 0.5723354173585349, -0.6967175388291635,\n",
       "                    1.1049570547118566, 0.5883842012843108, -0.4160883799431488,\n",
       "                    1.0126458949990886, 0.8764915155525649, 1.2865330855527277,\n",
       "                    -0.15468492341413187, -1.474808500951461, -0.7247684993505723,\n",
       "                    -0.691016449496262, -0.7761059553604883, -0.9298524616724834,\n",
       "                    -0.20556159997373866, 1.1773380711103194, -0.4658815820038745,\n",
       "                    0.47713785310294476, 0.09483796959729339],\n",
       "              'z': [-0.0009428690001863601, 0.4515474303513639,\n",
       "                    0.11294082503884392, 0.9865606160115998, 0.1974268933682315,\n",
       "                    -0.74529956698344, 0.006489811209655007, 1.03429631960181,\n",
       "                    -0.2954180227974703, -0.5718866776579555, -0.6055159569536872,\n",
       "                    -1.1644337587826699, 1.133555903612501, 0.8597807220104775,\n",
       "                    1.1261310742682726, 0.2927966682225174, -0.7100189939634112,\n",
       "                    -0.28923283079341944, 1.185246350142814, 0.6124255254742551,\n",
       "                    -0.6590529362621138, 0.5115604927140889, 0.4551532298949043,\n",
       "                    -1.0077918868694564, -1.1776837261821265, -1.717388966002818,\n",
       "                    0.37265467466174546, -0.45736543869222657, 0.38497528025709477,\n",
       "                    -0.3977502923990411, 0.46242127606111894, -0.5478728527194284,\n",
       "                    0.0018281189735667664, 0.15986356418458855]},\n",
       "             {'hoverinfo': 'none',\n",
       "              'line': {'color': 'rgb(180,180,180)', 'width': 2},\n",
       "              'mode': 'lines',\n",
       "              'name': 'edges',\n",
       "              'opacity': 0.7,\n",
       "              'type': 'scatter3d',\n",
       "              'uid': '0173505c-e46c-4656-8d5b-818e07b06cf9',\n",
       "              'x': array([-1.00796366, -0.73295706,         nan, ...,  1.10376171,  1.05932238,\n",
       "                                  nan]),\n",
       "              'y': array([-0.08409785,  0.69694456,         nan, ...,  0.47713785,  0.09483797,\n",
       "                                  nan]),\n",
       "              'z': array([-0.00094287,  0.45154743,         nan, ...,  0.00182812,  0.15986356,\n",
       "                                  nan])}],\n",
       "    'layout': {'autosize': True,\n",
       "               'font': {'size': 12},\n",
       "               'height': 1000,\n",
       "               'hovermode': 'closest',\n",
       "               'margin': {'b': 10, 'l': 10, 'r': 10, 't': 10},\n",
       "               'scene': {'aspectmode': 'cube',\n",
       "                         'bgcolor': 'white',\n",
       "                         'camera': {'eye': {'x': 1.3, 'y': 1.3, 'z': 0.5}},\n",
       "                         'xaxis': {'autorange': False,\n",
       "                                   'range': [-3.2919636493781126,\n",
       "                                             2.3520809050599314],\n",
       "                                   'showgrid': True,\n",
       "                                   'showline': False,\n",
       "                                   'showticklabels': True,\n",
       "                                   'title': {'text': ''},\n",
       "                                   'zeroline': False},\n",
       "                         'yaxis': {'autorange': False,\n",
       "                                   'range': [-3.2919636493781126,\n",
       "                                             2.3520809050599314],\n",
       "                                   'showgrid': True,\n",
       "                                   'showline': False,\n",
       "                                   'showticklabels': True,\n",
       "                                   'title': {'text': ''},\n",
       "                                   'zeroline': False},\n",
       "                         'zaxis': {'autorange': False,\n",
       "                                   'range': [-3.2919636493781126,\n",
       "                                             2.3520809050599314],\n",
       "                                   'showgrid': True,\n",
       "                                   'showline': False,\n",
       "                                   'showticklabels': True,\n",
       "                                   'title': {'text': ''},\n",
       "                                   'zeroline': False}},\n",
       "               'showlegend': False,\n",
       "               'template': '...',\n",
       "               'width': 1000}\n",
       "})"
      ]
     },
     "execution_count": 28,
     "metadata": {},
     "output_type": "execute_result"
    },
    {
     "data": {
      "image/png": "[encoded data removed]",
      "text/plain": [
       "<Figure size 432x288 with 1 Axes>"
      ]
     },
     "metadata": {},
     "output_type": "display_data"
    }
   ],
   "source": [
    "# pytorch\n",
    "visualize_graph(G3, backend = 'networkx')\n",
    "\n",
    "# networkx\n",
    "import networkx as nx\n",
    "from torch_geometric.utils import to_networkx\n",
    "Data_G3 = Data(edge_index=G3)\n",
    "G_nx = to_networkx(Data_G3)\n",
    "nx.draw_networkx(G_nx)\n",
    "\n",
    "# networkit\n",
    "from networkit import vizbridges\n",
    "nk.vizbridges.widgetFromGraph(G, dimension = nk.vizbridges.Dimension.Three)"
   ]
  },
  {
   "cell_type": "markdown",
   "id": "b0a49198-118f-4374-8ab6-87a0b6271837",
   "metadata": {
    "tags": []
   },
   "source": [
    "### Task 3"
   ]
  },
  {
   "cell_type": "code",
   "execution_count": 59,
   "id": "832bb59f-6938-426b-ade2-cdb41e6fc492",
   "metadata": {},
   "outputs": [
    {
     "data": {
      "text/plain": [
       "tensor(1.)"
      ]
     },
     "execution_count": 59,
     "metadata": {},
     "output_type": "execute_result"
    }
   ],
   "source": [
    "from torch_geometric.utils import degree\n",
    "degree(G1[0])[0]"
   ]
  },
  {
   "cell_type": "markdown",
   "id": "5e2126c5-169e-40e9-80f7-aa24298ebe43",
   "metadata": {
    "tags": []
   },
   "source": [
    "### Task 4"
   ]
  },
  {
   "cell_type": "code",
   "execution_count": 63,
   "id": "2da74881-5666-48d9-b809-9410ce7a7f8f",
   "metadata": {},
   "outputs": [],
   "source": [
    "# Get (out) neighbors csr\n",
    "def get_neighbors_csr(csr, u):\n",
    "    I = csr.crow_indices()\n",
    "    J = csr.col_indices()  \n",
    "    if u >= len(I):\n",
    "        raise RuntimeError(\"Node index is out of range\")\n",
    "    return J[I[u] : I[u+1]]"
   ]
  },
  {
   "cell_type": "code",
   "execution_count": 64,
   "id": "375f3eb7-9cee-4505-b166-ecfcf61d264b",
   "metadata": {},
   "outputs": [
    {
     "name": "stdout",
     "output_type": "stream",
     "text": [
      "tensor(crow_indices=tensor([0, 1, 4, 5, 6]),\n",
      "       col_indices=tensor([1, 0, 2, 3, 1, 1]),\n",
      "       values=tensor([1., 1., 1., 1., 1., 1.]), size=(4, 4), nnz=6,\n",
      "       layout=torch.sparse_csr)\n",
      "tensor([1])\n",
      "tensor([ 18,  47, 100, 115, 226, 252, 258, 309, 382, 408, 522, 539, 597, 652,\n",
      "        781, 790, 795, 817, 821, 833, 914, 939, 971])\n",
      "tensor([ 7, 17, 19, 13, 21, 12, 31, 11, 10,  8,  6,  1,  5,  4,  3,  2])\n",
      "tensor([1862,  633, 2582])\n"
     ]
    }
   ],
   "source": [
    "# G1\n",
    "G1 = G1.sort_by(sort_order = \"row\")[0]\n",
    "G1_csr = G1.to_sparse_csr()\n",
    "print(get_neighbors_csr(G1_csr, 0))\n",
    "\n",
    "# G2\n",
    "G2 = G2.sort_by(sort_order = \"row\")[0]\n",
    "G2_csr = G2.to_sparse_csr()\n",
    "print(get_neighbors_csr(G2_csr, 0))\n",
    "\n",
    "# G3\n",
    "G3 = G3.sort_by(sort_order = \"row\")[0]\n",
    "G3_csr = G3.to_sparse_csr()\n",
    "print(get_neighbors_csr(G3_csr, 0))\n",
    "\n",
    "# G4\n",
    "G4 = G4.sort_by(sort_order = \"row\")[0]\n",
    "G4_csr = G4.to_sparse_csr()\n",
    "print(get_neighbors_csr(G4_csr, 0))\n"
   ]
  },
  {
   "cell_type": "markdown",
   "id": "20c92b00-1424-4a08-a559-902103dc4975",
   "metadata": {
    "tags": []
   },
   "source": [
    "### Task 5"
   ]
  },
  {
   "cell_type": "code",
   "execution_count": 32,
   "id": "625c3673-edc4-4269-8985-8f8936a569b8",
   "metadata": {},
   "outputs": [],
   "source": [
    "# Get (out) neighbors dense\n",
    "def get_neighbors_dense(A, u):\n",
    "    if u > len(A[u]):\n",
    "        raise RuntimeError(\"Node index is out of range\")\n",
    "    neighbors = []\n",
    "    row = A[u]\n",
    "    for idx, val in enumerate(row):\n",
    "        if np.abs(val) > 1e-5:\n",
    "            neighbors.append(idx)\n",
    "    return neighbors"
   ]
  },
  {
   "cell_type": "code",
   "execution_count": 62,
   "id": "6f627007-0464-45eb-aeb8-af611795607e",
   "metadata": {},
   "outputs": [
    {
     "name": "stdout",
     "output_type": "stream",
     "text": [
      "[1, 2, 3, 4, 5, 6, 7, 8, 10, 11, 12, 13, 17, 19, 21, 31]\n"
     ]
    }
   ],
   "source": [
    "G3_dense = G3.to_dense()\n",
    "print(get_neighbors_dense(G3_dense, 0))"
   ]
  },
  {
   "cell_type": "code",
   "execution_count": 65,
   "id": "8965eca9-f1b3-4b30-865e-9a753abed14b",
   "metadata": {},
   "outputs": [
    {
     "name": "stdout",
     "output_type": "stream",
     "text": [
      "G2 Duration sparse: 0.0015162690542638302\n",
      "G2 Duration dense: 1.8021792429499328\n",
      "G4 Duration sparse: 0.0013914196752011776\n",
      "G4 Duration dense: 4.761007184162736\n"
     ]
    }
   ],
   "source": [
    "import timeit\n",
    "import random\n",
    "\n",
    "G2_dense = G2.to_dense()\n",
    "G2_nodes = len(G2_dense[0])\n",
    "G4_dense = G4.to_dense()\n",
    "G4_nodes = len(G4_dense[0])\n",
    "\n",
    "start = timeit.default_timer()\n",
    "for i in range(100):\n",
    "    u = random.randint(0,G2_nodes-1)\n",
    "    get_neighbors_csr(G2_csr, 0)\n",
    "end = timeit.default_timer()\n",
    "print(f\"G2 Duration sparse: {end-start}\")\n",
    "\n",
    "start = timeit.default_timer()\n",
    "for i in range(100):\n",
    "    u = random.randint(0,G2_nodes-1)\n",
    "    get_neighbors_dense(G2_dense, 0)\n",
    "end = timeit.default_timer()\n",
    "print(f\"G2 Duration dense: {end-start}\")\n",
    "\n",
    "start = timeit.default_timer()\n",
    "for i in range(100):\n",
    "    u = random.randint(0,G4_nodes-1)\n",
    "    get_neighbors_csr(G4_csr, 0)\n",
    "end = timeit.default_timer()\n",
    "print(f\"G4 Duration sparse: {end-start}\")\n",
    "\n",
    "start = timeit.default_timer()\n",
    "for i in range(100):\n",
    "    u = random.randint(0,G4_nodes-1)\n",
    "    get_neighbors_dense(G4_dense, 0)\n",
    "end = timeit.default_timer()\n",
    "print(f\"G4 Duration dense: {end-start}\")"
   ]
  },
  {
   "cell_type": "markdown",
   "id": "ce4491a3-c90f-46e2-b0e1-7280ec9af63b",
   "metadata": {
    "tags": []
   },
   "source": [
    "### Task 6"
   ]
  },
  {
   "cell_type": "code",
   "execution_count": 37,
   "id": "7d3d8f72-c222-450a-bb58-919a70bd72fa",
   "metadata": {},
   "outputs": [
    {
     "data": {
      "text/plain": [
       "10556"
      ]
     },
     "execution_count": 37,
     "metadata": {},
     "output_type": "execute_result"
    }
   ],
   "source": [
    "len(G4[0])"
   ]
  },
  {
   "cell_type": "code",
   "execution_count": 66,
   "id": "f461cf0d-1dc2-43a6-8133-de5928747950",
   "metadata": {},
   "outputs": [
    {
     "name": "stdout",
     "output_type": "stream",
     "text": [
      "tensor(10556.)\n"
     ]
    }
   ],
   "source": [
    "ind = torch.ones(G4_nodes)\n",
    "num_edges = ind.t() @ G4_dense @ ind\n",
    "print(num_edges)"
   ]
  },
  {
   "cell_type": "markdown",
   "id": "95242f78-cfca-4cd9-a4d6-e73f42a8fa39",
   "metadata": {
    "jp-MarkdownHeadingCollapsed": true,
    "tags": []
   },
   "source": [
    "### Bonus: Eigenvector Centrality"
   ]
  },
  {
   "cell_type": "code",
   "execution_count": 40,
   "id": "4ab51747-4c07-45bf-aea1-399896541368",
   "metadata": {},
   "outputs": [],
   "source": [
    "def power_method(A, v, eps):\n",
    "\n",
    "    # Init\n",
    "    v_eigen = v\n",
    "    v_eigen = 1.0 / torch.norm(v_eigen) * v_eigen\n",
    "    \n",
    "    v_ref = v_eigen\n",
    "    v_eigen = A @ v_eigen\n",
    "    v_eigen = 1.0 / torch.norm(v_eigen) * v_eigen\n",
    "\n",
    "    while torch.norm(v_eigen - v_ref) > eps:\n",
    "        v_ref = v_eigen\n",
    "        v_eigen = A @ v_eigen\n",
    "        v_eigen = 1.0 / torch.norm(v_eigen) * v_eigen\n",
    "\n",
    "    v_lambda = A @ v_eigen\n",
    "    for idx, val in enumerate(v_lambda):\n",
    "        if np.abs(val) > 1e-6 and np.abs(v_eigen[idx]) > 1e-6:\n",
    "            l_eigen = val / v_eigen[idx]\n",
    "            break\n",
    "    return l_eigen, v_eigen\n",
    "\n",
    "def eigen_centrality(A, eps):\n",
    "    # Use any row of A for getting the number of nodes\n",
    "    num_nodes = len(A[0])\n",
    "    \n",
    "    v = torch.rand(num_nodes)\n",
    "    \n",
    "    l_eigen, v_eigen = power_method(A, v, eps)\n",
    "    ref_scores = np.zeros(num_nodes)\n",
    "\n",
    "    for u in range(num_nodes):\n",
    "        neighbors = get_neighbors_dense(A, u)\n",
    "        for v in neighbors:\n",
    "            ref_scores[u] = ref_scores[u]+ v_eigen[v]\n",
    "        ref_scores[u] = ref_scores[u] / l_eigen\n",
    "\n",
    "    return v_eigen, ref_scores"
   ]
  },
  {
   "cell_type": "code",
   "execution_count": 45,
   "id": "9f0877a0-4bf8-4b9d-af98-25e02a0f893a",
   "metadata": {},
   "outputs": [
    {
     "name": "stdout",
     "output_type": "stream",
     "text": [
      "Error: 0.0008028512132282364\n"
     ]
    },
    {
     "data": {
      "application/vnd.jupyter.widget-view+json": {
       "model_id": "7f0edb37a02647d080090fb66ffaf776",
       "version_major": 2,
       "version_minor": 0
      },
      "text/plain": [
       "FigureWidget({\n",
       "    'data': [{'hoverinfo': 'text',\n",
       "              'marker': {'color': array([0.35572177, 0.2660886 , 0.3172452 , 0.2112559 , 0.07599689, 0.07951325,\n",
       "                                         0.07951324, 0.17099482, 0.22731324, 0.10261788, 0.07599688, 0.05285796,\n",
       "                                         0.08427489, 0.22644512, 0.10129886, 0.10129886, 0.0236626 , 0.09241032,\n",
       "                                         0.10129886, 0.14786062, 0.10129886, 0.09241032, 0.10129886, 0.15000047,\n",
       "                                         0.05705578, 0.05920701, 0.07551251, 0.13340852, 0.13103427, 0.13485157,\n",
       "                                         0.17467502, 0.19091287, 0.30863008, 0.37341434], dtype=float32),\n",
       "                         'colorscale': [[0.0, 'rgb(250, 235, 221)'],\n",
       "                                        [0.00392156862745098, 'rgb(250, 233,\n",
       "                                        218)'], [0.00784313725490196, 'rgb(250,\n",
       "                                        232, 216)'], ..., [0.9921568627450981,\n",
       "                                        'rgb(5, 6, 27)'], [0.996078431372549,\n",
       "                                        'rgb(4, 5, 26)'], [1.0, 'rgb(3, 5, 26)']],\n",
       "                         'line': {'color': 'rgb(50,50,50)', 'width': 0.5},\n",
       "                         'size': 9,\n",
       "                         'symbol': 'circle'},\n",
       "              'mode': 'markers',\n",
       "              'name': 'nodes',\n",
       "              'text': [Node: 0<br>Score: tensor(0.3557), Node: 1<br>Score:\n",
       "                       tensor(0.2661), Node: 2<br>Score: tensor(0.3172), Node:\n",
       "                       3<br>Score: tensor(0.2113), Node: 4<br>Score:\n",
       "                       tensor(0.0760), Node: 5<br>Score: tensor(0.0795), Node:\n",
       "                       6<br>Score: tensor(0.0795), Node: 7<br>Score:\n",
       "                       tensor(0.1710), Node: 8<br>Score: tensor(0.2273), Node:\n",
       "                       9<br>Score: tensor(0.1026), Node: 10<br>Score:\n",
       "                       tensor(0.0760), Node: 11<br>Score: tensor(0.0529), Node:\n",
       "                       12<br>Score: tensor(0.0843), Node: 13<br>Score:\n",
       "                       tensor(0.2264), Node: 14<br>Score: tensor(0.1013), Node:\n",
       "                       15<br>Score: tensor(0.1013), Node: 16<br>Score:\n",
       "                       tensor(0.0237), Node: 17<br>Score: tensor(0.0924), Node:\n",
       "                       18<br>Score: tensor(0.1013), Node: 19<br>Score:\n",
       "                       tensor(0.1479), Node: 20<br>Score: tensor(0.1013), Node:\n",
       "                       21<br>Score: tensor(0.0924), Node: 22<br>Score:\n",
       "                       tensor(0.1013), Node: 23<br>Score: tensor(0.1500), Node:\n",
       "                       24<br>Score: tensor(0.0571), Node: 25<br>Score:\n",
       "                       tensor(0.0592), Node: 26<br>Score: tensor(0.0755), Node:\n",
       "                       27<br>Score: tensor(0.1334), Node: 28<br>Score:\n",
       "                       tensor(0.1310), Node: 29<br>Score: tensor(0.1349), Node:\n",
       "                       30<br>Score: tensor(0.1747), Node: 31<br>Score:\n",
       "                       tensor(0.1909), Node: 32<br>Score: tensor(0.3086), Node:\n",
       "                       33<br>Score: tensor(0.3734)],\n",
       "              'type': 'scatter3d',\n",
       "              'uid': 'c1eee23f-b10c-4988-8631-ec2b9349472d',\n",
       "              'x': [-0.6573759786906149, -0.7996622016841568,\n",
       "                    -0.29003797056139646, -1.3334845667342656, -0.7816975156165978,\n",
       "                    -1.1511782492361933, -0.5127552636874207, -1.3209271264026299,\n",
       "                    0.37102351278784407, -0.5009953418760625, -1.5120597752126084,\n",
       "                    0.029494090048025137, -1.8864861221524862, -0.6702256691429127,\n",
       "                    1.6668360168951306, 0.6410087750460304, -0.7814758604136546,\n",
       "                    -1.561801201950748, 0.3749303898292452, 0.12724595947968886,\n",
       "                    0.6031368980636028, -0.6959909772494763, 1.2961115700042884,\n",
       "                    1.3132892538303038, 1.1326326420760109, 0.9136717470167316,\n",
       "                    1.4999764937752402, 1.01732857856699, -0.045778919449802453,\n",
       "                    1.6758951924706653, 0.13757217066129876, 0.29664438200013665,\n",
       "                    0.8390728000909746, 0.5660622674188219],\n",
       "              'y': [0.7734471736283441, 0.28833652332410836, -0.17262967915982608,\n",
       "                    -0.1412765793694758, 1.922005831759031, 1.0967893796856665,\n",
       "                    1.5628704407385658, 0.32446237625949986, 0.27522362749525275,\n",
       "                    -1.3975230019442864, 1.5065991505496323, 1.8334699218306063,\n",
       "                    0.35595714500696446, -0.4733741035500533, -0.2306251150182345,\n",
       "                    -1.819385334093198, 1.6841303323575063, 0.9767608159749006,\n",
       "                    -1.9000045913008676, 0.37285004298898233, -1.4378898950459673,\n",
       "                    1.3542017843951077, -0.8159556582414317, -0.7213892010545128,\n",
       "                    0.6137408580624967, -0.16528389067816543, -1.773237722497776,\n",
       "                    0.05917398092692472, -0.9368709133112368, -1.105079492093408,\n",
       "                    -0.39701440358284107, 0.02033835371742633, -0.6871919163095376,\n",
       "                    -0.8456262414501988],\n",
       "              'z': [0.038421141200798994, -0.8926313078393794,\n",
       "                    0.06917652253437949, 0.04579190417447248, 0.188778350475115,\n",
       "                    1.1391231762995855, 0.9464449981271155, -0.42731085935327723,\n",
       "                    -0.42252930821475126, -0.11972612786650266, 0.386725419063282,\n",
       "                    -0.3670512248420251, 0.5255402352303873, -0.3418632247712664,\n",
       "                    -0.7597798832434436, 0.3510826844196518, 2.0017755575938567,\n",
       "                    -0.9068853142821259, -0.5688654033037958, -0.8243395316327943,\n",
       "                    -1.2646667943405305, -1.1162768380415695, -1.2889651962765079,\n",
       "                    0.7391673977888976, 1.3499816929828425, 1.722883851752846,\n",
       "                    -0.3576879055303805, 0.4132293079031276, 0.8069560267280065,\n",
       "                    0.10188851921568029, -1.252221273105729, 0.6643323795147954,\n",
       "                    -0.3642597802664446, -0.2162391920943169]},\n",
       "             {'hoverinfo': 'none',\n",
       "              'line': {'color': 'rgb(180,180,180)', 'width': 2},\n",
       "              'mode': 'lines',\n",
       "              'name': 'edges',\n",
       "              'opacity': 0.7,\n",
       "              'type': 'scatter3d',\n",
       "              'uid': 'ca7682bd-4077-4d8b-80e8-4ef74da787a2',\n",
       "              'x': array([-0.65737598, -0.7996622 ,         nan, ...,  0.8390728 ,  0.56606227,\n",
       "                                  nan]),\n",
       "              'y': array([ 0.77344717,  0.28833652,         nan, ..., -0.68719192, -0.84562624,\n",
       "                                  nan]),\n",
       "              'z': array([ 0.03842114, -0.89263131,         nan, ..., -0.36425978, -0.21623919,\n",
       "                                  nan])}],\n",
       "    'layout': {'autosize': True,\n",
       "               'font': {'size': 12},\n",
       "               'height': 1000,\n",
       "               'hovermode': 'closest',\n",
       "               'margin': {'b': 10, 'l': 10, 'r': 10, 't': 10},\n",
       "               'scene': {'aspectmode': 'cube',\n",
       "                         'bgcolor': 'white',\n",
       "                         'camera': {'eye': {'x': 1.3, 'y': 1.3, 'z': 0.5}},\n",
       "                         'xaxis': {'autorange': False,\n",
       "                                   'range': [-2.0900050504309546,\n",
       "                                             2.2019531133532424],\n",
       "                                   'showgrid': True,\n",
       "                                   'showline': False,\n",
       "                                   'showticklabels': True,\n",
       "                                   'title': {'text': ''},\n",
       "                                   'zeroline': False},\n",
       "                         'yaxis': {'autorange': False,\n",
       "                                   'range': [-2.0900050504309546,\n",
       "                                             2.2019531133532424],\n",
       "                                   'showgrid': True,\n",
       "                                   'showline': False,\n",
       "                                   'showticklabels': True,\n",
       "                                   'title': {'text': ''},\n",
       "                                   'zeroline': False},\n",
       "                         'zaxis': {'autorange': False,\n",
       "                                   'range': [-2.0900050504309546,\n",
       "                                             2.2019531133532424],\n",
       "                                   'showgrid': True,\n",
       "                                   'showline': False,\n",
       "                                   'showticklabels': True,\n",
       "                                   'title': {'text': ''},\n",
       "                                   'zeroline': False}},\n",
       "               'showlegend': False,\n",
       "               'template': '...',\n",
       "               'width': 1000}\n",
       "})"
      ]
     },
     "execution_count": 45,
     "metadata": {},
     "output_type": "execute_result"
    }
   ],
   "source": [
    "scores, ref_scores = eigen_centrality(G3_dense, 1e-3)\n",
    "\n",
    "print(f\"Error: {torch.norm(scores-ref_scores)}\")\n",
    "\n",
    "nk.vizbridges.widgetFromGraph(G, dimension = nk.vizbridges.Dimension.Three, nodeScores=scores)"
   ]
  }
 ],
 "metadata": {
  "kernelspec": {
   "display_name": "Python 3 (ipykernel)",
   "language": "python",
   "name": "python3"
  },
  "language_info": {
   "codemirror_mode": {
    "name": "ipython",
    "version": 3
   },
   "file_extension": ".py",
   "mimetype": "text/x-python",
   "name": "python",
   "nbconvert_exporter": "python",
   "pygments_lexer": "ipython3",
   "version": "3.8.17"
  }
 },
 "nbformat": 4,
 "nbformat_minor": 5
}
