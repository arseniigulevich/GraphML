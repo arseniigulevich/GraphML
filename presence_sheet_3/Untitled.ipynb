{
 "cells": [
  {
   "cell_type": "code",
   "execution_count": 1,
   "id": "ff3fde2f-c6c5-4e97-8dfd-cb37a3010ad4",
   "metadata": {},
   "outputs": [],
   "source": [
    "from torch_geometric import EdgeIndex"
   ]
  },
  {
   "cell_type": "code",
   "execution_count": 3,
   "id": "193b037c-f716-4c54-aed8-99b12fe63df7",
   "metadata": {},
   "outputs": [
    {
     "name": "stdout",
     "output_type": "stream",
     "text": [
      "EdgeIndex([[0, 1, 1, 2, 1, 3],\n",
      "           [1, 0, 2, 1, 3, 1]], sparse_size=(4, 4), nnz=6, sort_order=row,\n",
      "          is_undirected=True)\n"
     ]
    }
   ],
   "source": [
    "edge_index = EdgeIndex(    \n",
    "    [[0, 1, 1, 2, 1, 3],\n",
    "     [1, 0, 2, 1, 3, 1]],\n",
    "    sparse_size=(4, 4),\n",
    "    sort_order='row',\n",
    "    is_undirected=True,\n",
    "    device='cpu',)\n",
    "print(edge_index)"
   ]
  },
  {
   "cell_type": "code",
   "execution_count": null,
   "id": "7314c008-49f9-4566-9da6-02bd710cc856",
   "metadata": {},
   "outputs": [],
   "source": []
  }
 ],
 "metadata": {
  "kernelspec": {
   "display_name": "Python 3 (ipykernel)",
   "language": "python",
   "name": "python3"
  },
  "language_info": {
   "codemirror_mode": {
    "name": "ipython",
    "version": 3
   },
   "file_extension": ".py",
   "mimetype": "text/x-python",
   "name": "python",
   "nbconvert_exporter": "python",
   "pygments_lexer": "ipython3",
   "version": "3.11.9"
  }
 },
 "nbformat": 4,
 "nbformat_minor": 5
}
