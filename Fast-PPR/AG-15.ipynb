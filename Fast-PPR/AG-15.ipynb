{
 "cells": [
  {
   "cell_type": "markdown",
   "id": "8c3ad033-3403-4c77-8afa-2eda103b8598",
   "metadata": {},
   "source": [
    "# AG-15"
   ]
  },
  {
   "cell_type": "code",
   "execution_count": 7,
   "id": "26c7a021-78d9-4ac9-8963-0f8c94f0ef1c",
   "metadata": {
    "scrolled": true
   },
   "outputs": [],
   "source": [
    "import numpy as np\n",
    "import torch as torch\n",
    "from torch_cluster import random_walk\n",
    "from torch.distributions.geometric import Geometric\n",
    "import networkit as nk\n",
    "import math\n",
    "import torch\n",
    "import random\n",
    "from torch_geometric.utils import from_networkit\n",
    "from torch_geometric import EdgeIndex\n",
    "import networkit as nk\n",
    "import torch\n",
    "import random as rd\n",
    "\n",
    "\n",
    "def get_in_neighbors(G, u) -> list:\n",
    "    mask = G[1] == u\n",
    "    return G[:, mask][0].tolist()\n",
    "\n",
    "def get_out_degree(G, u) -> int:\n",
    "    return (G[0] == u).nonzero().size(dim=0)\n",
    "\n",
    "class PPR:\n",
    "    def __init__(self, G, alpha, delta):\n",
    "        self._G = G  # EdgeIndex\n",
    "        self._alpha = alpha\n",
    "        self._delta = delta\n",
    "        self._epsilon = np.sqrt(delta)\n",
    "        self._beta = 1 / 6\n",
    "        self._c = 350\n",
    "\n",
    "    def fast_ppr(self, s, t):\n",
    "        t_set, f_set, pi_inv = self._frontier(t)\n",
    "        if s in t_set:\n",
    "            return pi_inv[s].item(), len(t_set | f_set)\n",
    "        else:\n",
    "            number_of_walks = int(np.ceil(self._c * self._epsilon / self._delta))\n",
    "            sum_pi_inv = 0\n",
    "            for i in range(number_of_walks):\n",
    "                Geom = Geometric(torch.tensor([self._alpha]))\n",
    "                L = int(np.ceil(Geom.sample().item()))\n",
    "                L = L if L > 0 else 1\n",
    "                walk = random_walk(self._G[0], self._G[1], torch.tensor([s]), walk_length=L).flatten()\n",
    "                for v in walk:\n",
    "                    if v.item() in f_set:\n",
    "                        sum_pi_inv += pi_inv[v].item()\n",
    "            return sum_pi_inv/number_of_walks, len(t_set | f_set)\n",
    "\n",
    "    def _frontier(self, t):\n",
    "        error_inv = self._beta * self._epsilon\n",
    "        estimate_vec = torch.zeros(self._G.num_rows)\n",
    "        estimate_vec[t] = self._alpha\n",
    "        residual_vec = torch.clone(estimate_vec)\n",
    "        target_set = {t}\n",
    "        frontier_set = set([])\n",
    "        residual_vec_bigger_ix = (residual_vec > error_inv * self._alpha).nonzero().flatten()\n",
    "\n",
    "        while residual_vec_bigger_ix.size(dim=0) > 0:\n",
    "            w = residual_vec_bigger_ix[0].item()\n",
    "            for u in get_in_neighbors(self._G, w):\n",
    "                capital_delta = (1.0 - self._alpha) * residual_vec[w].item() / get_out_degree(self._G, u)\n",
    "                estimate_vec[u] = estimate_vec[u] + capital_delta\n",
    "                residual_vec[u] = residual_vec[u] + capital_delta\n",
    "                if estimate_vec[u].item() > error_inv:\n",
    "                    target_set.add(u)\n",
    "                    frontier_set = set(get_in_neighbors(self._G, u)).union(frontier_set)\n",
    "            residual_vec[w] = 0\n",
    "            residual_vec_bigger_ix = (residual_vec > error_inv * self._alpha).nonzero().flatten()\n",
    "\n",
    "        frontier_set = frontier_set - target_set\n",
    "        return target_set, frontier_set, estimate_vec"
   ]
  },
  {
   "cell_type": "code",
   "execution_count": 8,
   "id": "dcd87f4f-3bc3-4a21-be31-ca8dacf5bd20",
   "metadata": {},
   "outputs": [],
   "source": [
    "G_nk = nk.readGraph(\"./foodweb-baydry.konect\")\n",
    "n = G_nk.numberOfNodes()\n",
    "is_undir = not G_nk.isDirected()\n",
    "G_pyg = from_networkit(G_nk)[0]\n",
    "G_pyg = EdgeIndex(G_pyg, sparse_size=(n, n), is_undirected=is_undir)"
   ]
  },
  {
   "cell_type": "code",
   "execution_count": 19,
   "id": "38ebf233-7767-4b0b-8d60-88b1a024775c",
   "metadata": {},
   "outputs": [],
   "source": [
    "def run_for_alpha(alpha):\n",
    "\n",
    "    print(\"--------------------------------\")\n",
    "\n",
    "    delta = 1 / n\n",
    "    print(\"delta:\", delta)\n",
    "    print(\"alpha:\", alpha)\n",
    "\n",
    "    my_ppr = PPR(G_pyg, alpha=alpha, delta=delta)\n",
    "\n",
    "    random.seed(0)\n",
    "    num_node_pairs = 20\n",
    "    num_below_delta = 0\n",
    "    num_non_zero = 0\n",
    "    average_size_target_set = 0\n",
    "    for _ in range(num_node_pairs):\n",
    "        # print(\"----------------\")\n",
    "        s = random.randint(0, n - 1)\n",
    "        t = s\n",
    "        while t == s:\n",
    "            t = random.randint(0, n - 1)\n",
    "\n",
    "        # print(s, t)\n",
    "        score, target_set_size = my_ppr.fast_ppr(s, t)\n",
    "        # print(score, target_set_size)\n",
    "        if score > 0:\n",
    "            num_non_zero += 1\n",
    "        if score < delta:\n",
    "            num_below_delta += 1\n",
    "        average_size_target_set += target_set_size\n",
    "    average_size_target_set /= num_node_pairs\n",
    "\n",
    "    print(\"below delta:\", int(100 * num_below_delta / num_node_pairs ), \"%\")\n",
    "    print(\"num below delta:\", num_below_delta)\n",
    "    print(\"non zero:\", int(100 * num_non_zero / num_node_pairs ), \"%\")\n",
    "    print(\"average size target set:\", average_size_target_set)"
   ]
  },
  {
   "cell_type": "code",
   "execution_count": 10,
   "id": "20928243-42b8-4db7-977c-4ae011d6520f",
   "metadata": {
    "collapsed": true,
    "jupyter": {
     "outputs_hidden": true
    }
   },
   "outputs": [
    {
     "name": "stdout",
     "output_type": "stream",
     "text": [
      "--------------------------------\n",
      "delta: 0.0078125\n",
      "alpha: 0.0001\n",
      "below delta: 100 %\n",
      "non zero: 0 %\n",
      "average size target set: 1.0\n"
     ]
    }
   ],
   "source": [
    "run_for_alpha(0.0001)"
   ]
  },
  {
   "cell_type": "code",
   "execution_count": 20,
   "id": "b0082b85-967f-4f66-9ac4-c9ed509a4619",
   "metadata": {
    "collapsed": true,
    "jupyter": {
     "outputs_hidden": true
    },
    "scrolled": true
   },
   "outputs": [
    {
     "name": "stdout",
     "output_type": "stream",
     "text": [
      "--------------------------------\n",
      "delta: 0.0078125\n",
      "alpha: 0.1\n",
      "below delta: 100 %\n",
      "num below delta: 20\n",
      "non zero: 25 %\n",
      "average size target set: 3.95\n"
     ]
    }
   ],
   "source": [
    "run_for_alpha(0.1)"
   ]
  },
  {
   "cell_type": "code",
   "execution_count": 21,
   "id": "0063b301-0c49-42fe-8852-a19dabeaa17f",
   "metadata": {
    "scrolled": true
   },
   "outputs": [
    {
     "name": "stdout",
     "output_type": "stream",
     "text": [
      "--------------------------------\n",
      "delta: 0.0078125\n",
      "alpha: 0.3\n",
      "below delta: 95 %\n",
      "num below delta: 19\n",
      "non zero: 60 %\n",
      "average size target set: 24.75\n"
     ]
    }
   ],
   "source": [
    "run_for_alpha(0.3)"
   ]
  },
  {
   "cell_type": "markdown",
   "id": "2a206fc2-010d-4028-89f0-ee50d4e8f71a",
   "metadata": {},
   "source": [
    "## a)What is the average combined size of the target set and frontier set? How many (computed) PPR values are smaller than δ?\n",
    "delta: 0.0078125\\\n",
    "alpha: 0.3\\\n",
    "below delta: 95 %\\\n",
    "num below delta: 19\\\n",
    "non zero: 60 %\\\n",
    "average size target set: 24.75\n",
    "\n",
    "## b)What is the influence of α in the algorithm?\n",
    "alpha can be understood as the probability of the random walk between s and t stopping at each step. It affects the frontiers diameter and the lengths of the walks from source that are going to hit the frontier. Therefore, it should be chosen such that the random walks and the frontier meet in the \"middle\".\n",
    "\n",
    "## c)What is the role of δ regarding the expected error bounds of the algorithm?\n",
    "if the fast_ppr(s,t) score is higher than delta, then with probability higher than 0.99, the estimated ppr is at most max(δ, πs(t))/4 away from the exact value."
   ]
  }
 ],
 "metadata": {
  "kernelspec": {
   "display_name": "Python 3 (ipykernel)",
   "language": "python",
   "name": "python3"
  },
  "language_info": {
   "codemirror_mode": {
    "name": "ipython",
    "version": 3
   },
   "file_extension": ".py",
   "mimetype": "text/x-python",
   "name": "python",
   "nbconvert_exporter": "python",
   "pygments_lexer": "ipython3",
   "version": "3.11.9"
  }
 },
 "nbformat": 4,
 "nbformat_minor": 5
}
